{
  "cells": [
    {
      "cell_type": "markdown",
      "metadata": {
        "id": "ij_NeMqxLwWt"
      },
      "source": [
        "# AI กับความยุติธรรมในทางการแพทย์ (AI Fairness in Medicine): Integrated and Interactive Workshop\n",
        "\n",
        "สำหรับบุคลากรทางการแพทย์ทุกท่าน วันนี้เราลองมาเปลี่ยนบทบาทจากบุคลากรทางการแพทย์มาเป็นผู้พัฒนา AI กันสักครู่นะครับ หลังจากจบเวิร์คช็อปนี้ เราจะเข้าใจพื้นฐานการสร้าง AI สำหรับใช้งานทางการแพทย์ผ่านตัวอย่างง่าย ๆ นอกจากนี้ยังจะได้ทราบด้วยว่าอคติใน AI มันคืออะไร ส่งผลเสียอย่างไร แล้วเราจะสามารถสร้าง AI ที่ยุติธรรมได้อย่างไร\n",
        "\n",
        "เวิร์คช็อปนี้ไม่ต้องการประสบการณ์การเขียนโปรแกรมหรือแม้แต่การใช้งาน AI เลยก็ตาม สิ่งที่เราใช้ในการทำเวิร์คช็อปวันนี้ (นักวิทยาศาสตร์ข้อมูลมักเรียกสิ่งนี้ว่า notebook) จะให้คำแนะนำเกี่ยวกับการทำ machine learning ตั้งแต่ต้นจนจบผ่านตัวอย่างง่าย ๆ โดยไม่ต้องเขียนโค้ดแม้แต่บรรทัดเดียว\n",
        "\n",
        "\n"
      ]
    },
    {
      "cell_type": "markdown",
      "metadata": {
        "id": "pHQkLBODPYgq"
      },
      "source": [
        "# บทที่ 1: การฝึก (train) โมเดล AI คืออะไร?\n",
        "\n",
        "คำถามที่ว่าการแก้ปัญหาด้วย AI คืออะไร จริง ๆ แล้วไม่มีคำตอบที่ตายตัว มีระบบความคิดและวิธีการต่าง ๆ มากมาย ที่แตกต่างกันตรงรายละเอียดปลีกย่อย แต่จุดเริ่มต้นที่สำคัญคือต้องเราต้องเข้าใจก่อนว่า ปัญหาคืออะไร ข้อมูลที่เรามีคืออะไร แล้วเราอยากให้ AI ช่วยทำอะไร\n",
        "\n",
        "ยกตัวอย่างปัญหาทางการแพทย์ เช่น การวินิจฉัยผู้ป่วยจากอาการต่าง ๆ ที่มี การคัดกรองโรคจากภาพถ่ายเอ็กซเรย์หรือ MRI ของผู้ป่วย หรือการค้นหาวัคซีนใหม่เมื่อเกิดการระบาดครั้งต่อไป\n",
        "\n",
        "แผนภาพด้านล่างนี้แสดงมุมมองหนึ่งของ machine learning lifecycle โดยจะอธิบายกระบวนการสร้างโมเดล AI เพื่อแก้ปัญหาที่กำหนดไว้และบรรลุเป้าหมายที่ตั้งไว้ทีละลำดับ\n",
        "\n",
        "<img src=\"https://towardsdatascience.com/wp-content/uploads/2024/11/1_dlG-Cju5ke-DKp8DQ9hiA@2x.jpeg\"\n",
        "alt=\"ml-lifecycle\" width=\"400\"/>\n",
        "\n",
        "*Source: https://towardsdatascience.com/wp-content/uploads/2024/11/1_dlG-Cju5ke-DKp8DQ9hiA@2x.jpeg*\n",
        "\n",
        "1. **Data Collection**\n",
        "\n",
        "   เราเริ่มต้นด้วยการรวบรวมข้อมูลทางการแพทย์ที่เกี่ยวข้อง เช่น ประวัติผู้ป่วย ผลแลป ภาพถ่ายเอ็กซเรย์หรือสแกนต่าง ๆ นักพัฒนา AI จะต้องเข้าใจปัญหาเป็นอย่างดี โดยเฉพาะอย่างยิ่งในบริบททางการแพทย์ และควรค้นหาข้อมูลที่เกี่ยวข้อง หรือแหล่งข้อมูล เพื่อที่จะสร้าง AI ได้อย่างมีประสิทธิภาพ\n",
        "\n",
        "2. **Data Cleaning**\n",
        "\n",
        "   ข้อมูลดิบที่เราเก็บมามักจะมีข้อผิดพลาด การสูญหาย มีความไม่สอดคล้องกัน ซึ่งจะต้องได้รับการแก้ไข เราจะต้องตรวจสอบและแก้ไขปัญหาเหล่านี้อย่างระมัดระวัง เพื่อให้มั่นใจว่าข้อมูลนั้นถูกต้องและเชื่อถือได้สำหรับการวิเคราะห์\n",
        "\n",
        "3. **Feature Engineering**\n",
        "\n",
        "   ตรงนี้แหละที่มี inductive bias เข้ามาเกี่ยวข้องครั้งแรก เราจะระบุและจัดระเบียบข้อมูลทางการแพทย์ที่สำคัญที่สุด ซึ่งไม่ได้มีอยู่ในข้อมูลต้นฉบับ แต่เราเติมเข้าไปเพื่อช่วยให้ AI แม่นยำขึ้น ยกตัวอย่างเช่น เราอาจจะคำนวณ BMI จากข้อมูลส่วนสูงและน้ำหนัก หรือติดตามการเปลี่ยนแปลงของค่าแลปตามเวลา แทนที่จะให้สอน/ฝึก AI จากข้อมูลดิบที่เก็บมาจริงๆ\n",
        "\n",
        "4. **Model Training**\n",
        "\n",
        "   โมเดล AI จะเรียนรู้ที่จะจับรูปแบบความสัมพันธ์ระหว่างข้อมูลที่รวบรวมมากับสิ่งที่เราสนใจจะศึกษา หลังจากที่นักพัฒนา AI กำหนดข้อจำกัดหรือกฎเกณฑ์ให้แล้ว ยกตัวอย่างเช่น การจับความสัมพันธ์ที่ซ่อนอยู่ระหว่างภาวะแทรกซ้อนของโรคเบาหวานกับความเปลี่ยนแปลงของระดับน้ำตาลในเลือด หรือการจดจำรูปแบบระหว่างอาการหยุดหายใจกับความเข้มข้นของระดับออกซิเจนในเลือด ซึ่งโมเดล AI นี้ก็อาจจะเป็นโมเดลแบบดังเดิม ไปจนถึงโมเดลสมัยใหม่ อย่างเช่น large language models (LLM) ที่เราได้ยินกันทุกวัน ขึ้นอยู่กับลักษณะของรูปแบบงานที่เราสนใจ\n",
        "\n",
        "5. **Evaluation**\n",
        "\n",
        "   หลังจากที่โมเดลได้เรียนรู้จากข้อมูลที่เราป้อนเข้าไปแล้ว เราจะทดสอบประสิทธิภาพอย่างเข้มงวดโดยใช้ตัวชี้วัดที่แพทย์เข้าใจได้ เช่น sensitivity และ specificity และเราจะตรวจสอบอคติด้วย เพื่อให้แน่ใจว่ารูปแบบที่โมเดลเรียนรู้มานั้น มีความยุติธรรมและถูกต้องในกลุ่มผู้ป่วยที่แตกต่างกัน ก่อนนำไปใช้ในคลีนิคจริง\n",
        "\n",
        "6. **Deployment**\n",
        "\n",
        "   เมื่อผ่านการตรวจสอบแล้วว่าใช้ได้จริง เราจะนำโมเดลไปรวมเข้ากับระบบของโรงพยาบาล ซึ่งโมเดลนี้จะสามารถช่วยในงานต่างๆได้ เช่น การทำเครื่องหมายที่ผลการตรวจทางห้องปฏิบัติการที่ผิดปกติ ซึ่งจะทำอย่างรอบคอบและระมัดระวัง มีการฝึกอบรมเจ้าหน้าที่อย่างถูกต้อง และมีระบบการติดตามตรวจสอบด้วย\n",
        "\n",
        "7. **Monitoring**\n",
        "\n",
        "   หลังจากเริ่มใช้งานจริงแล้ว เราจะติดตามประสิทธิภาพของโมเดลผ่านการใช้งานจริงอย่างต่อเนื่อง เหมือนกับที่แนวทางการรักษาพัฒนาไปเรื่อยๆ เราก็จะทำการปรับปรุงโมเดลเมื่อได้รับข้อมูลใหม่ หรือค้นพบวิธีที่เราจะทำให้มันดีขึ้นได้\n",
        "\n",
        "วงจรที่ต่อเนื่องแบบนี้จะช่วยสร้างเครื่องมือ AI ที่สนับสนุนการทำงานในคลีนิคได้จริง ๆ ขณะเดียวกันก็รักษาความปลอดภัยและความน่าเชื่อถือไว้ได้ และที่สำคัญ ความเชี่ยวชาญของบุคลากรทางการแพทย์ยังคงมีความสำคัญต่อการตีความและการตัดสินใจขั้นสุดท้าย"
      ]
    },
    {
      "cell_type": "markdown",
      "metadata": {
        "id": "ZX0d0JbjxU0r"
      },
      "source": [
        "## บทที่ 2: มาสร้างโมเดล AI แรกของเรากันเถอะ!\n",
        "\n",
        "ในเวิร์คช็อปนี้ เราจะใช้ข้อมูลทางการแพทย์จริงจาก [WiDS Datathon 2020](https://www.kaggle.com/competitions/widsdatathon2020/data) ซึ่งมีข้อมูลจากผู้ป่วยที่ไม่เปิดเผยตัวตนจากหอผู้ป่วยวิกฤต (ICU) ในหลากหลายประเทศทั่วโลก ชุดข้อมูลนี้รวมคุณลักษณะทางคลินิกที่หลากหลาย เช่น ข้อมูลประชากร สัญญาณชีพ ผลการตรวจทางห้องปฏิบัติการ และ\n",
        "โรคแทรกซ้อนที่เก็บมาในช่วง 24 ชั่วโมงแรกของการเข้าพักใน ICU ของผู้ป่วย\n",
        "\n",
        "แม้ว่าโจทย์ของการแข่งขันดั้งเดิมจะเน้นที่การทำนายการเสียชีวิตในโรงพยาบาล (`hospital_death`) แต่**เป้าหมายของเราจะเป็นการพัฒนาโมเดลที่ทำนายว่าผู้ป่วยเป็นตับแข็งหรือไม่** โดยใช้คอลัมน์ `cirrhosis` เป็นตัวแปรเป้าหมาย (target) การเปลี่ยนแปลงเช่นนี้จะช่วยให้เราได้เรียนรู้เกี่ยวกับความท้าทาย\n",
        "และข้อควรคำนึงต่างๆ ในการสร้างโมเดล AI สำหรับผลลัพธ์ทางคลินิกที่หลากหลาย พร้อมทั้งฝึกฝนขั้นตอนสำคัญในเวิร์กโฟลว์ของการเรียนรู้ของเครื่อง (machine learning workflow)\n",
        "\n",
        "มาเริ่มจากโหลดข้อมูลและสำรวจข้อมูลกันก่อน เพื่อที่เราจะได้มีความเข้าใจในข้อมูลมากขึ้น\n",
        "\n"
      ]
    },
    {
      "cell_type": "code",
      "execution_count": null,
      "metadata": {
        "id": "nsKkUIV0_vg2"
      },
      "outputs": [],
      "source": [
        "import pandas as pd\n",
        "import matplotlib.pyplot as plt\n",
        "import seaborn as sns\n",
        "\n",
        "from sklearn.compose import ColumnTransformer\n",
        "from sklearn.ensemble import RandomForestClassifier\n",
        "from sklearn.model_selection import train_test_split\n",
        "from sklearn.impute import SimpleImputer\n",
        "from sklearn.pipeline import Pipeline\n",
        "from sklearn.preprocessing import OneHotEncoder, StandardScaler\n",
        "\n",
        "sns.set_theme(style=\"white\", font_scale=1.2)"
      ]
    },
    {
      "cell_type": "code",
      "execution_count": null,
      "metadata": {
        "id": "jCco6KSTBcaG"
      },
      "outputs": [],
      "source": [
        "df = pd.read_csv(\"./data/training_v2.csv\")"
      ]
    },
    {
      "cell_type": "markdown",
      "metadata": {
        "id": "RqKjcl_4Bi0m"
      },
      "source": [
        "นี่คือตัวอย่างของข้อมูลที่เราจะใช้ในเวิร์กชอปนี้ ซึ่งเราจะเห็นแค่ไม่กี่แถวและไม่กี่คอลัมน์จากจำนวนคอลัมน์ที่มีทั้งหมด"
      ]
    },
    {
      "cell_type": "code",
      "execution_count": null,
      "metadata": {
        "colab": {
          "base_uri": "https://localhost:8080/",
          "height": 443
        },
        "id": "t0-QIB6bBdi-",
        "outputId": "b2c91a50-42ac-421c-ea7a-a676c60aa1f3"
      },
      "outputs": [],
      "source": [
        "df"
      ]
    },
    {
      "cell_type": "markdown",
      "metadata": {
        "id": "fDLfTUMLBnmz"
      },
      "source": [
        "กราฟด้านล่างแสดงให้เห็นการกระจายของข้อมูลประชากร เช่น อายุและเพศ"
      ]
    },
    {
      "cell_type": "code",
      "execution_count": null,
      "metadata": {
        "colab": {
          "base_uri": "https://localhost:8080/",
          "height": 219
        },
        "id": "cMmoUYfsBnBz",
        "outputId": "fda59bdc-23e0-4540-b8f9-e5868b998a4a"
      },
      "outputs": [],
      "source": [
        "_, axes = plt.subplots(1, 2, figsize=(16, 4))\n",
        "sns.histplot(data=df, x=\"age\", ax=axes[0])\n",
        "sns.histplot(data=df, x=\"gender\", ax=axes[1])"
      ]
    },
    {
      "cell_type": "markdown",
      "metadata": {
        "id": "10xB9WySB4Ts"
      },
      "source": [
        "ชุดข้อมูลนี้ยังมีข้อมูลความชุกของโรค 6 ชนิด ได้แก่ ลูคีเมีย, ภาวะตับวาย, ภาวะภูมิคุ้มกันบกพร่อง, มะเร็งต่อมน้ำเหลือง, โรคตับแข็ง และโรคเอดส์ มาดูคร่าว ๆ กันว่าความชุกของแต่ละโรคกระจายอย่างไรในแต่ละเพศและเชื้อชาติ"
      ]
    },
    {
      "cell_type": "code",
      "execution_count": null,
      "metadata": {
        "id": "Iobwp5cGCNu7"
      },
      "outputs": [],
      "source": [
        "DISEASES = [\"leukemia\", \"hepatic_failure\", \"immunosuppression\", \"lymphoma\", \"cirrhosis\", \"aids\"]"
      ]
    },
    {
      "cell_type": "code",
      "execution_count": null,
      "metadata": {
        "id": "sYGzvc4tCO6h"
      },
      "outputs": [],
      "source": [
        "def bar_chart_of_diseases(df, group_by):\n",
        "    long_df = pd.melt(\n",
        "        df,\n",
        "        id_vars=[\"patient_id\", group_by],\n",
        "        value_vars=DISEASES,\n",
        "        value_name=\"presence\",\n",
        "        var_name=\"disease\",\n",
        "    )\n",
        "\n",
        "    present_df = long_df[long_df[\"presence\"] == 1]\n",
        "    group_counts = df[group_by].value_counts()\n",
        "\n",
        "    ratio_df = (\n",
        "        present_df.groupby([group_by, \"disease\"]).size().reset_index(name=\"count\")\n",
        "    )\n",
        "    ratio_df[\"ratio\"] = ratio_df.apply(\n",
        "        lambda row: row[\"count\"] / group_counts[row[group_by]], axis=1\n",
        "    )\n",
        "\n",
        "    g = sns.catplot(\n",
        "        data=ratio_df,\n",
        "        x=\"disease\",\n",
        "        y=\"ratio\",\n",
        "        col=group_by,\n",
        "        col_wrap=3,\n",
        "        hue=\"disease\",\n",
        "        kind=\"bar\",\n",
        "        aspect=2,\n",
        "        legend=False,\n",
        "    )\n",
        "\n",
        "    for ax in g.axes.flatten():\n",
        "        plt.setp(ax.get_xticklabels(), rotation=30, ha=\"right\")\n",
        "\n",
        "    g.set_titles(col_template=\"{col_name}\")\n",
        "    g.set_axis_labels(\"Disease\", \"Ratio of Patients\")\n",
        "    plt.tight_layout()\n",
        "    plt.show()"
      ]
    },
    {
      "cell_type": "code",
      "execution_count": null,
      "metadata": {
        "colab": {
          "base_uri": "https://localhost:8080/",
          "height": 169
        },
        "id": "H-T_eftLQQM_",
        "outputId": "e2fca5d0-3ed1-4f79-97e6-f246e2dea5ab"
      },
      "outputs": [],
      "source": [
        "bar_chart_of_diseases(df, group_by=\"gender\")"
      ]
    },
    {
      "cell_type": "code",
      "execution_count": null,
      "metadata": {
        "colab": {
          "base_uri": "https://localhost:8080/",
          "height": 228
        },
        "id": "b0SzhDWCQTE_",
        "outputId": "2140a768-0606-4a93-f37f-87709abefc93"
      },
      "outputs": [],
      "source": [
        "bar_chart_of_diseases(df, group_by=\"ethnicity\")"
      ]
    },
    {
      "cell_type": "markdown",
      "metadata": {
        "id": "N7ytTh5RCND7"
      },
      "source": [
        "🔍 **ข้อค้นพบ**\n",
        "\n",
        "* **อายุเฉลี่ยของผู้ป่วยคือ 62 ปี** และมีการกระจายของข้อมูลไปทางซ้าย (left-skewed)\n",
        "กล่าวคือ ผู้ป่วยที่มีอายุน้อยมีจำนวนค่อนข้างน้อยในชุดข้อมูลนี้\n",
        "\n",
        "* **จำนวนผู้ป่วยชายและหญิงใกล้เคียงกัน แต่ผู้ชายมีแนวโน้มเป็นโรคมากกว่า**\n",
        "  โดยเฉพาะในโรคตับแข็ง (cirrhosis), ภาวะตับวาย (hepatic failure), โรคเอดส์ (aids) และลูคีเมีย (leukemia)การคาดการณ์เบื้องต้นสำหรับความชุกของโรคตับแข็งและเอดส์ในผู้ชายที่สูงกว่า อาจเกิดจาก พฤติกรรมการดื่มสุรา และ พฤติกรรมเสี่ยงทางเพศ ที่มากกว่าเมื่อเทียบกับผู้หญิง\n",
        "\n",
        "* **77% ของผู้ป่วยในชุดข้อมูลเป็นคนผิวขาว (White)**\n",
        "แม้ผู้ป่วยกลุ่มนี้จะเป็นกลุ่มใหญ่ที่สุดในชุดข้อมูล แต่พวกเขากลับแสดงรูปแบบการกระจายของโรคที่แตกต่าง\n",
        "เมื่อเปรียบเทียบกับผู้ป่วยจากเชื้อชาติอื่น"
      ]
    },
    {
      "cell_type": "markdown",
      "metadata": {
        "id": "RT0H6BU9FB_g"
      },
      "source": [
        "นอกจากนี้ยังมีคุณลักษณะอื่น ๆ อีกมากมายที่เราสามารถสกัดออกจากข้อมูลได้ โดยคุณลักษณะเหล่านี้ มักจะถูกเรียกว่า *features* ในบริบทของ machine learning\n",
        "\n",
        "ในชุดข้อมูลนี้ มี features ตามที่ปรากฏด้านล่าง"
      ]
    },
    {
      "cell_type": "code",
      "execution_count": null,
      "metadata": {
        "colab": {
          "base_uri": "https://localhost:8080/"
        },
        "id": "SRZNKP_eE097",
        "outputId": "439fc364-39d9-4d7a-8525-a27c636f4c73"
      },
      "outputs": [],
      "source": [
        "cols = df.columns.tolist()\n",
        "n_cols = 4\n",
        "remainder = len(cols) % n_cols\n",
        "if remainder != 0:\n",
        "    cols += [\"\"] * (n_cols - remainder)\n",
        "rows = [cols[i:i + n_cols] for i in range(0, len(cols), n_cols)]\n",
        "for row in rows:\n",
        "    print(\" \".join([\"{:<30}\"] * n_cols).format(*row))"
      ]
    },
    {
      "cell_type": "markdown",
      "metadata": {
        "id": "G3xyVAiqFZ_3"
      },
      "source": [
        "มาลองดูตัวอย่างคุณลักษณะ (features) ที่เรามีกันสักหน่อย\n",
        "เพราะเนื่องจากโจทย์ของเราคือการทำนายว่าผู้ป่วยเป็นโรคตับแข็งหรือไม่ เราจึงคัดเลือกฟีเจอร์ที่น่าจะเกี่ยวข้องกับการทำงานของตับ เช่น \n",
        "- albumin (ระดับโปรตีนอัลบูมินในเลือด ซึ่งสร้างขึ้นที่ตับ)\n",
        "- bilirubin (ระดับสารบิลลิรูบินในเลือด หากมีค่าสูงมักจะเรียกว่า ดีซ่าน) \n",
        "- INR (ค่าที่บ่งบอกความสามารถในการแข็งตัวของเลือด ซึ่งแปรผันกับการทำงานของตับ)\n",
        "- เกล็ดเลือด\n",
        "- อายุ\n",
        "ในส่วนถัดไป เราจะดูว่าแต่ละฟีเจอร์มีการกระจายอย่างไรระหว่างผู้ป่วยที่เป็นกับไม่เป็นโรคตับแข็ง\n",
        "\n",
        "ขั้นตอนนี้เป็นส่วนหนึ่งของ Exploratory Data Analysis (EDA) หรือการวิเคราะห์ข้อมูลเบื้องต้น ซึ่งสำคัญมากในการทำ Machine Learning\n",
        "เพราะมันช่วยให้เราเข้าใจข้อมูลมากขึ้น มองเห็นแนวโน้มหรือความผิดปกติได้เร็วขึ้น\n",
        "รวมถึงช่วยให้เราเลือกฟีเจอร์ที่เกี่ยวข้องกับปัญหาจริง ๆ ได้ดีขึ้น\n",
        "สุดท้ายก็จะช่วยให้โมเดลของเราทำงานได้แม่นยำขึ้น และลดโอกาสเกิดความผิดพลาดในภายหลังด้วย"
      ]
    },
    {
      "cell_type": "code",
      "execution_count": null,
      "metadata": {
        "id": "AjlD2ElgFcut"
      },
      "outputs": [],
      "source": [
        "DISPLAY_FEATURES = [\n",
        "    \"d1_albumin_max\",\n",
        "    \"d1_albumin_min\",\n",
        "    \"d1_bilirubin_max\",\n",
        "    \"d1_bilirubin_min\",\n",
        "    \"d1_inr_max\",\n",
        "    \"d1_inr_min\",\n",
        "    \"d1_platelets_max\",\n",
        "    \"d1_platelets_min\",\n",
        "    \"age\",\n",
        "]"
      ]
    },
    {
      "cell_type": "code",
      "execution_count": null,
      "metadata": {
        "id": "czg8zfoJFds1"
      },
      "outputs": [],
      "source": [
        "long_df = pd.melt(\n",
        "    df,\n",
        "    id_vars=[\"patient_id\", \"cirrhosis\"],\n",
        "    value_vars=DISPLAY_FEATURES,\n",
        "    value_name=\"value\",\n",
        "    var_name=\"feature\",\n",
        ")"
      ]
    },
    {
      "cell_type": "code",
      "execution_count": null,
      "metadata": {
        "colab": {
          "base_uri": "https://localhost:8080/",
          "height": 552
        },
        "id": "P_qLyrIWFebV",
        "outputId": "2ceb4324-4966-4cdf-d3bb-7c6a4936a1d8"
      },
      "outputs": [],
      "source": [
        "_ = sns.displot(\n",
        "    data=long_df,\n",
        "    x=\"value\",\n",
        "    hue=\"cirrhosis\",\n",
        "    col=\"feature\",\n",
        "    stat=\"density\",\n",
        "    common_norm=False,\n",
        "    common_bins=False,\n",
        "    facet_kws={\"sharex\": False, \"sharey\": False},\n",
        "    aspect=3,\n",
        "    col_wrap=2,\n",
        ")"
      ]
    },
    {
      "cell_type": "code",
      "execution_count": null,
      "metadata": {
        "id": "hgNWJZOYFfqA"
      },
      "outputs": [],
      "source": [
        "# Play around with this\n",
        "NUM_FEATURES = [\n",
        "    \"d1_albumin_max\", \"d1_albumin_min\",\n",
        "    \"d1_inr_max\",\"d1_inr_min\",\n",
        "    \"d1_bilirubin_max\", \"d1_bilirubin_min\",\n",
        "    \"d1_platelets_min\",\n",
        "    \"map_apache\", \"d1_mbp_min\",\n",
        "    \"creatinine_apache\", \"d1_creatinine_max\",\n",
        "    \"urineoutput_apache\",\n",
        "    \"bun_apache\",\n",
        "    \"d1_sodium_min\", \"d1_potassium_max\",\n",
        "    \"d1_temp_max\", \"d1_temp_min\",\n",
        "    \"d1_wbc_max\", \"d1_wbc_min\",\n",
        "    \"d1_lactate_max\"\n",
        "]\n",
        "CATE_FEATURES = [\n",
        "    \"ethnicity\"\n",
        "]\n",
        "GROUPS = [\"patient_id\", \"gender\", \"age\", \"ethnicity\"]\n",
        "TARGET = \"cirrhosis\""
      ]
    },
    {
      "cell_type": "code",
      "execution_count": null,
      "metadata": {
        "id": "zV4WAzRGFg5a"
      },
      "outputs": [],
      "source": [
        "def evaluate(model, X_test, y_test, group_test):\n",
        "    y_pred = model.predict(X_test)\n",
        "\n",
        "    result_df = pd.DataFrame({\n",
        "        \"ground_truth\": y_test,\n",
        "        \"prediction\": y_pred,\n",
        "    })\n",
        "    result_df[\"TP\"] = (result_df[\"ground_truth\"] == 1) & (result_df[\"prediction\"] == 1)\n",
        "    result_df[\"TN\"] = (result_df[\"ground_truth\"] == 0) & (result_df[\"prediction\"] == 0)\n",
        "    result_df[\"FP\"] = (result_df[\"ground_truth\"] == 0) & (result_df[\"prediction\"] == 1)\n",
        "    result_df[\"FN\"] = (result_df[\"ground_truth\"] == 1) & (result_df[\"prediction\"] == 0)\n",
        "\n",
        "    result_df = pd.concat([result_df, group_test], axis=1)\n",
        "    return result_df"
      ]
    },
    {
      "cell_type": "code",
      "execution_count": null,
      "metadata": {
        "id": "xQLqPb-9FADn"
      },
      "outputs": [],
      "source": [
        "def train(\n",
        "    df,\n",
        "    numerical_features: list[str],\n",
        "    categorical_features: list[str],\n",
        "    target: str,\n",
        "    groups: list[str],\n",
        "):\n",
        "    df = df.dropna(subset=[target]).copy()\n",
        "\n",
        "    features = numerical_features + categorical_features\n",
        "\n",
        "    X = df[features]\n",
        "    y = df[target]\n",
        "    group = df[groups]\n",
        "\n",
        "    X_train, X_test, y_train, y_test, _, group_test = train_test_split(\n",
        "        X, y, group, test_size=0.3, random_state=42)\n",
        "\n",
        "    numeric_transformer = Pipeline([\n",
        "        (\"imputer\", SimpleImputer(strategy=\"median\")),\n",
        "        (\"scaler\", StandardScaler())\n",
        "    ])\n",
        "\n",
        "    categorical_transformer = Pipeline([\n",
        "        (\"imputer\", SimpleImputer(strategy=\"most_frequent\")),\n",
        "        (\"encoder\", OneHotEncoder())\n",
        "    ])\n",
        "\n",
        "    transformer = ColumnTransformer(\n",
        "        transformers=[\n",
        "            (\"num\", numeric_transformer, numerical_features),\n",
        "            (\"cat\", categorical_transformer, categorical_features)\n",
        "        ]\n",
        "    )\n",
        "\n",
        "    model = Pipeline([\n",
        "        (\"transformer\", transformer),\n",
        "        # Add our classifier.\n",
        "        (\"classifier\", RandomForestClassifier(\n",
        "            n_estimators=100,\n",
        "            random_state=42,\n",
        "            min_samples_split=10,\n",
        "        ))\n",
        "    ])\n",
        "\n",
        "    model.fit(X_train, y_train)\n",
        "    return model, (X_test, y_test, group_test)"
      ]
    },
    {
      "cell_type": "code",
      "execution_count": null,
      "metadata": {
        "id": "k6g2ERg8FCQB"
      },
      "outputs": [],
      "source": [
        "def train_and_evaluate(\n",
        "    df,\n",
        "    numerical_features: list[str],\n",
        "    categorical_features: list[str],\n",
        "    target: str,\n",
        "    groups: list[str],\n",
        "    everyone_as_african_american: bool = False,\n",
        "):\n",
        "\n",
        "    model, test_set = train(df, numerical_features, categorical_features, target, groups)\n",
        "    (X_test, y_test, group_test) = test_set\n",
        "\n",
        "    if everyone_as_african_american and \"ethnicity\" in categorical_features:\n",
        "        X_test[\"ethnicity\"] = \"African American\"\n",
        "\n",
        "    return evaluate(model, X_test, y_test, group_test)"
      ]
    },
    {
      "cell_type": "markdown",
      "metadata": {
        "id": "2nQ3CAZYFjq2"
      },
      "source": [
        "**ได้เวลาฝึกกันแล้ว!**\n",
        "\n",
        "จากหัวข้อด้านล่าง **เลือกโจทย์ที่คุ้นเคยมาสัก 2 หรือ 3 ข้อ**\n",
        "\n",
        "1. ประเมินภาวะกล้ามเนื้อหัวใจขาดเลือด จากสัญญาณ ECG (คลื่นไฟฟ้าหัวใจ)\n",
        "2. ตรวจจับมะเร็งปอดจากภาพเอกซเรย์ทรวงอก (CXR)\n",
        "3. ปรับขนาดยาลดระดับน้ำตาลในเลือดจากข้อมูลระดับน้ำตาลในเลือด\n",
        "4. ทำนายภาวะติดเชื้อในกระแสเลือด (Sepsis) ใน ICU\n",
        "5. ระบบเตือนภัยล่วงหน้า (Early Warning System – EWS) สำหรับผู้ป่วยที่อาการอาจแย่ลง\n",
        "6. การสกัดข้อมูลจากบันทึกการรักษาแบบบรรยาย (free-text) ของแพทย์ เพื่อนำไปใช้ในการวิเคราะห์\n",
        "7. การบริหารจัดการเตียงผู้ป่วย (Bed management)\n",
        "\n",
        "\n",
        "เมื่อเลือกได้แล้ว ลองกำหนดปัญหาและเป้าหมาย พูดคุยและแลกเปลี่ยนความคิดกับสมาชิกภายในกลุ่มสำหรับคำถามดังต่อไปนี้ \n",
        "\n",
        "ถ้าเรามีโจทย์และเป้าหมายที่ชัดเจนแล้ว เราควรเก็บข้อมูลผู้ป่วยประเภทไหนบ้าง? ข้อมูลเหล่านี้จะช่วยให้เราสร้างโมเดลที่แม่นยำขึ้นได้อย่างไร? แล้วมีกรณีการใช้งานอื่น ๆ ใน ICU หรือการแพทย์ที่เราสามารถนำวิธีนี้ไปใช้ต่อได้อีกไหม? ข้อมูลในกรณีอื่น ๆ จะมีรูปแบบเดียวกันไหม? เราสามารถใช้วิธีทำความสะอาดข้อมูล (data cleaning) แบบเดียวกันได้หรือไม่? ถ้านึกไม่ออกว่าจะใช้กับอะไร ลองคิดดูว่าเราจะเอาเทคนิคการสร้างโมเดลแบบเดียวกันนี้ไปใช้กับปัญหาเหล่านี้ได้ไหม?\""
      ]
    },
    {
      "cell_type": "markdown",
      "metadata": {
        "id": "4yfDXuLZHrnu"
      },
      "source": [
        "## บทที่ 3: ประเมินประสิทธิภาพของโมเดล\n",
        "\n",
        "Confusion matrix เป็นเครื่องมือพื้นฐานที่ใช้ประเมินประสิทธิภาพของโมเดลจำแนกประเภท (classification model)\n",
        "มันคือ “ตาราง” ที่สรุปจำนวนการทำนายที่ถูกและผิดของโมเดล โดยแยกตามแต่ละประเภทของผลลัพธ์ (class)\n",
        "\n",
        "ตารางนี้จะประกอบด้วย:\n",
        "\n",
        "* True Positives (TP) – ทำนายว่าเป็นโรค และเป็นโรคจริง\n",
        "* True Negatives (TN) – ทำนายว่าไม่เป็นโรค และไม่เป็นโรคจริง\n",
        "* False Positives (FP) – ทำนายว่าเป็นโรค แต่จริง ๆ ไม่เป็น\n",
        "* False Negatives (FN) – ทำนายว่าไม่เป็นโรค แต่จริง ๆ แล้วเป็น\n",
        "\n",
        "การอ่าน confusion matrix จะทำให้เราไม่เพียงแค่รู้ \"ความแม่นยำโดยรวม\" ของโมเดล\n",
        "แต่ยังสามารถเห็นว่าโมเดลมีแนวโน้มพลาดในแบบใด เช่น เอนเอียงไปทางกลุ่มใด หรือทำผิดแบบซ้ำๆ\n",
        "\n",
        "<p align=\"center\"> <img src=\"https://www.researchgate.net/publication/377027146/figure/fig5/AS:11431281215285308@1704113587226/The-Matrix-of-TP-FP-FN-TN-Precision-Recall-dan-Accuracy.ppm\" alt=\"cm-definition\" width=\"400\"/> </p>\n",
        "\n",
        "นอกจาก confusion matrix แล้ว เรายังมี เมตริกอื่น ๆ ที่สำคัญ ที่ใช้สำหรับการประเมินโมเดล เช่น:\n",
        "\n",
        "* **Precision**: สัดส่วนของการทำนายว่า \"เป็นโรค\" ที่ถูกต้องจริง ๆ\n",
        "* **Recall (Sensitivity)**: สัดส่วนของคนที่เป็นโรคจริง ๆ ที่โมเดลสามารถจับได้\n",
        "* **F1-score**: ให้ความสมดุลระหว่าง precision และ recall โดยเฉพาะในชุดข้อมูลที่ไม่สมดุล\n",
        "* **AUC-ROC**: วัดความสามารถของโมเดลในการแยกแยะระหว่างกลุ่ม (เช่น คนป่วย vs ไม่ป่วย)\n",
        "\n",
        "**การใช้เมตริกเหล่านี้ร่วมกัน** จะช่วยให้เรา**เข้าใจประสิทธิภาพของโมเดลได้ชัดเจนและครอบคลุมมากยิ่งขึ้น**\n",
        "โดยเฉพาะในบริบททางการแพทย์หรือสถานการณ์สำคัญที่ข้อผิดพลาดบางประเภทอาจมีผลกระทบร้ายแรงกว่า"
      ]
    },
    {
      "cell_type": "code",
      "execution_count": null,
      "metadata": {
        "id": "cYoQi5bZIiZF"
      },
      "outputs": [],
      "source": [
        "def plot_result_df(data: pd.DataFrame):\n",
        "    _, axes = plt.subplots(1, 2, figsize=(16, 4))\n",
        "    kwargs = {\"annot\": True, \"robust\": True, \"fmt\": \"d\"}\n",
        "    display_columns = [\"TP\", \"TN\", \"FP\", \"FN\"]\n",
        "    _ = sns.heatmap(data=data.groupby(\"ethnicity\")[display_columns].sum(), ax=axes[0], **kwargs)\n",
        "    _ = sns.heatmap(data=data.groupby(\"gender\")[display_columns].sum(), ax=axes[1], **kwargs)"
      ]
    },
    {
      "cell_type": "code",
      "execution_count": null,
      "metadata": {
        "colab": {
          "base_uri": "https://localhost:8080/",
          "height": 177
        },
        "id": "BdyVvuY2IpQM",
        "outputId": "aa180765-f248-4217-e038-b9ad095ae1b4"
      },
      "outputs": [],
      "source": [
        "result_df = train_and_evaluate(df=df,\n",
        "                               numerical_features=NUM_FEATURES,\n",
        "                               categorical_features=[\"ethnicity\"],\n",
        "                               target=TARGET,\n",
        "                               groups=GROUPS)\n",
        "plot_result_df(result_df)"
      ]
    },
    {
      "cell_type": "markdown",
      "metadata": {
        "id": "Xb8xh9hwJOWN"
      },
      "source": [
        "**โมเดลของเราทำนายว่า \"ไม่เป็นโรคตับแข็ง\" แทบจะกับทุกคนเลย!**\n",
        "โดยเฉพาะในกลุ่มผู้ป่วยที่เป็นชาวแอฟริกันอเมริกาและชาวเอเชีย โมเดล \"ไม่เคย\" ทำนายว่า \"เป็นโรคตับแข็ง\" เลยแม้แต่คนเดียว"
      ]
    },
    {
      "cell_type": "markdown",
      "metadata": {
        "id": "NRRgzXVDJ6kG"
      },
      "source": [
        "ก่อนที่เราจะตรวจสอบและแก้ไขปัญหานี้ในบทถัดไป ลองย้อนกลับไปคิดถึงปัญหาที่เลือกไว้ในบทที่แล้ว คิดว่า**เมตริกหรือคะแนนที่ต้องใช้สำหรับการประเมิน**ความถูกต้องหรือประสิทธิภาพควรเป็นอะไรบ้าง?"
      ]
    },
    {
      "cell_type": "markdown",
      "metadata": {
        "id": "F2bZ0tHIJwGI"
      },
      "source": [
        "## บทที่ 4: จัดการกับอคติของข้อมูล\n",
        "\n",
        "ก่อนหน้านี้เราใช้เชื้อชาติเป็นหนึ่งใน features ด้วย เพื่อทดสอบว่าโมเดลมีแนวโน้มเอนเอียงไปทางกลุ่มเชื้อชาติใดเชื้อชาติหนึ่งหรือไม่ เราสามารถเปลี่ยน \"เชื้อชาติ\" ของทุกคนให้เป็น เช่น \"แอฟริกันอเมริกัน\" แล้วดูว่าโมเดลจะทำนายอย่างไร"
      ]
    },
    {
      "cell_type": "code",
      "execution_count": null,
      "metadata": {
        "colab": {
          "base_uri": "https://localhost:8080/",
          "height": 177
        },
        "id": "4d2LMgz0Khq7",
        "outputId": "87929e41-ff2e-46d1-ffb9-64866623bb51"
      },
      "outputs": [],
      "source": [
        "result_df = train_and_evaluate(df=df,\n",
        "                               numerical_features=NUM_FEATURES,\n",
        "                               categorical_features=[\"ethnicity\"],\n",
        "                               target=TARGET,\n",
        "                               groups=GROUPS,\n",
        "                               everyone_as_african_american=True)\n",
        "plot_result_df(result_df)"
      ]
    },
    {
      "cell_type": "markdown",
      "metadata": {
        "id": "LZeNPfH6KqMO"
      },
      "source": [
        "น่าสนใจมากที่เมื่อเราทำการ ปิดบังข้อมูลกลุ่มเชื้อชาติ โดยบอกโมเดลว่าผู้ป่วยทุกคนเป็นชาวแอฟริกันอเมริกัน\n",
        "ผลปรากฏว่าโมเดลไม่เคยทำนายว่า \"เป็นโรคตับแข็ง\" สำหรับกลุ่มผู้ป่วย Hispanic และกลุ่มที่ไม่ทราบเชื้อชาติเลย\n",
        "\n",
        "สิ่งนี้บ่งบอกว่า การใช้ \"เชื้อชาติ\" เป็นหนึ่งในฟีเจอร์ ทำให้โมเดลเรียนรู้และใช้ข้อมูลเชื้อชาติเป็นส่วนหนึ่งของกลไกการตัดสินใจ\n",
        "\n",
        "เราสามารถแก้ปัญหานี้ได้โดย ตัดฟีเจอร์ \"ethnicity\" หรือเชื้อชาติออกจากโมเดล เพื่อไม่ให้โมเดลนำปัจจัยเชื้อชาติมาส่งผลต่อการทำนาย"
      ]
    },
    {
      "cell_type": "code",
      "execution_count": null,
      "metadata": {
        "colab": {
          "base_uri": "https://localhost:8080/",
          "height": 177
        },
        "id": "Jd-jArftK3oe",
        "outputId": "e669116e-16c2-424c-dc38-aa12789dec07"
      },
      "outputs": [],
      "source": [
        "result_df = train_and_evaluate(df=df,\n",
        "                               numerical_features=NUM_FEATURES,\n",
        "                               categorical_features=[],\n",
        "                               target=TARGET,\n",
        "                               groups=GROUPS)\n",
        "plot_result_df(result_df)"
      ]
    },
    {
      "cell_type": "markdown",
      "metadata": {
        "id": "Lmm1B5I3K7_i"
      },
      "source": [
        "แม้ผลลัพธ์จะไม่ได้ดีขึ้น แต่โมเดลนี้ไม่ได้ทำนายโดยอ้างอิงข้อมูลเชื้อชาติซึ่งอาจะทำให้เกิดความไม่ยุติธรรมสำหรับประชากรบางกลุ่มอีกต่อไป อีกหนึ่งปัญหาในชุดข้อมูลนี้ที่ต้องแก้ไข คือ **ปัญหาชุดข้อมูลที่ไม่สมดุล (imbalanced dataset)**\n",
        "\n",
        "ชุดข้อมูลที่ไม่สมดุลเป็นความท้าทายสำคัญในงาน AI ทางการแพทย์ เพราะโมเดลอาจ “เรียนรู้” ที่จะเลือกทำนายเฉพาะกลุ่มใหญ่ ส่งผลให้ตรวจจับภาวะที่หายากแต่ร้ายแรงได้ไม่ดี เช่น\n",
        "\n",
        "> ถ้าในชุดข้อมูลมีผู้ป่วยที่เป็นโรคตับแข็งเพียงส่วนน้อย\n",
        "โมเดลอาจเลือกทำนายว่า \"ไม่เป็นโรคตับแข็ง\" กับทุกคน และยังได้ความแม่นยำสูง\n",
        "แต่ในความเป็นจริงกลับตรวจไม่เจอเคสที่ควรจะพบ\n",
        "\n",
        "เพื่อแก้ปัญหาเหล่านี้ เราสามารถ\n",
        "\n",
        "* ใช้ตัวชี้วัดการประเมินอย่าง precision, recall และ F1-score แทน accuracy\n",
        "* ใช้เทคนิคการสุ่มตัวอย่างซ้ำ เช่น:\n",
        "  * Oversampling: เพิ่มจำนวนตัวอย่างของกลุ่มที่พบน้อย (minority class)\n",
        "  * Undersampling: ลดจำนวนของกลุ่มที่พบมาก (majority class)\n",
        "* ใช้อัลกอริทึมหรือ loss function ที่ออกแบบมาเพื่อจัดการกับความไม่สมดุล\n",
        "* รวบรวมข้อมูลเพิ่มเติมสำหรับกลุ่มที่มีตัวแทนน้อย ถ้าเป็นไปได้\n",
        "\n",
        "กลยุทธ์เหล่านี้จะช่วยให้แน่ใจว่าโมเดล เรียนรู้ที่จะรู้จำได้ทั้งเหตุการณ์ที่พบบ่อยและที่พบได้น้อย\n",
        "ซึ่งจะช่วยเพิ่มทั้ง ความเป็นธรรม (fairness) และประโยชน์ทางคลินิก (clinical utility) ของโมเดลได้อย่างมีประสิทธิภาพ"
      ]
    },
    {
      "cell_type": "markdown",
      "metadata": {
        "id": "6Oi7FFtyMJxL"
      },
      "source": [
        "**ส่งท้ายบทเรียน**: มาคุยกันประเด็นเรื่องอคติ (Bias) ภายในทีมกันเถอะ\n",
        "\n",
        "* ลองยกตัวอย่างที่ “อคติ” มีส่วนช่วยให้โมเดลแม่นยำขึ้น เพราะอะไรอคตินั้นถึงช่วยได้?\n",
        "* จากข้อที่แล้ว เราจะรู้ได้อย่างไรว่ามันเป็น “อคติที่ยุติธรรม”? หรือในทางกลับกัน เราจะรู้ได้อย่างไรว่ามันไม่ยุติธรรม?\n",
        "* เราป้องกัน “อคติ” ไม่ให้แอบแฝงเข้ามาในกระบวนการสร้างโมเดล AI ได้อย่างไร?\n",
        "* เราจะรู้ได้อย่างไรว่าโมเดลแบบ ChatGPT ปลอดจากอคติหรือไม่? เราควรถามคำถามอะไรบ้างเพื่อให้รู้คำตอบ?"
      ]
    }
  ],
  "metadata": {
    "colab": {
      "provenance": []
    },
    "kernelspec": {
      "display_name": "Python 3",
      "name": "python3"
    },
    "language_info": {
      "name": "python"
    }
  },
  "nbformat": 4,
  "nbformat_minor": 0
}
